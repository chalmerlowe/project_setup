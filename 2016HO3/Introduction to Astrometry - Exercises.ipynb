{
 "cells": [
  {
   "cell_type": "markdown",
   "metadata": {},
   "source": [
    "# Introduction to Astrometry"
   ]
  },
  {
   "cell_type": "markdown",
   "metadata": {},
   "source": [
    "### Dora Föhring, University of Hawaii Institute for Astronomy"
   ]
  },
  {
   "cell_type": "markdown",
   "metadata": {
    "collapsed": true
   },
   "source": [
    "Aim: To measure the position and uncertainty of a Near Earth Asteroid"
   ]
  },
  {
   "cell_type": "markdown",
   "metadata": {
    "collapsed": true
   },
   "source": [
    "## 0. Prerequisites"
   ]
  },
  {
   "cell_type": "markdown",
   "metadata": {},
   "source": [
    "pip install astroquery"
   ]
  },
  {
   "cell_type": "code",
   "execution_count": null,
   "metadata": {
    "collapsed": true
   },
   "outputs": [],
   "source": [
    "import numpy as np\n",
    "import matplotlib.pyplot as plt\n",
    "import astropy.io.fits as fits\n",
    "from astropy import wcs\n",
    "from astroquery.gaia import Gaia\n",
    "import pdb\n",
    "## make matplotlib appear in the notebook rather than in a new window\n",
    "%matplotlib inline"
   ]
  },
  {
   "cell_type": "markdown",
   "metadata": {},
   "source": [
    "### 0.1 Directory Set up & Display Image"
   ]
  },
  {
   "cell_type": "code",
   "execution_count": null,
   "metadata": {
    "collapsed": true
   },
   "outputs": [],
   "source": [
    "datadir = '/Users/dorafohring/Desktop/2016HO3/'\n",
    "objname  = '2016HO3'"
   ]
  },
  {
   "cell_type": "code",
   "execution_count": null,
   "metadata": {
    "collapsed": true
   },
   "outputs": [],
   "source": [
    "def plotfits(imno):\n",
    "    img = fits.open(datadir+objname+'_{0:02d}.fits'.format(numb))[0].data\n",
    "\n",
    "    f = plt.figure(figsize=(10,12))\n",
    "    im = plt.imshow(img, cmap='hot')\n",
    "    im = plt.imshow(img[480:560, 460:540], cmap='hot')\n",
    "    plt.clim(1800, 2800)\n",
    "    plt.colorbar(im, fraction=0.046, pad=0.04)\n",
    "    plt.savefig(\"figure{0}.png\".format(imno))\n",
    "    plt.show()"
   ]
  },
  {
   "cell_type": "code",
   "execution_count": null,
   "metadata": {},
   "outputs": [],
   "source": [
    "numb = 1 \n",
    "plotfits(numb)"
   ]
  },
  {
   "cell_type": "markdown",
   "metadata": {},
   "source": [
    "## 1. Centroiding on Images"
   ]
  },
  {
   "cell_type": "markdown",
   "metadata": {},
   "source": [
    "Write a text file with image centers.\n",
    "Write code to open each image and extract centroid position from previous exercise.\n",
    "Save results in a text file."
   ]
  },
  {
   "cell_type": "code",
   "execution_count": null,
   "metadata": {
    "collapsed": true
   },
   "outputs": [],
   "source": [
    "centers = np.array([[502,501], [502,501]])\n",
    "np.savetxt('centers.txt', centers, fmt='%i')\n",
    "centers = np.loadtxt('centers.txt', dtype='int')"
   ]
  },
  {
   "cell_type": "code",
   "execution_count": null,
   "metadata": {
    "collapsed": true
   },
   "outputs": [],
   "source": [
    "searchr = 5"
   ]
  },
  {
   "cell_type": "markdown",
   "metadata": {},
   "source": [
    "### 1.1 Center of Mass"
   ]
  },
  {
   "cell_type": "code",
   "execution_count": null,
   "metadata": {
    "collapsed": true
   },
   "outputs": [],
   "source": [
    "def cent_weight(n):\n",
    "    \"\"\"\n",
    "    Assigns centroid weights\n",
    "    \"\"\"\n",
    "    wghts=np.zeros((n),np.float)\n",
    "    for i in range(n):\n",
    "        wghts[i]=float(i-n/2)+0.5\n",
    "    return wghts\n",
    "\n",
    "def calc_CoM(psf, weights):\n",
    "    \"\"\"\n",
    "    Finds Center of Mass of image\n",
    "    \"\"\"\n",
    "    cent=np.zeros((2),np.float)\n",
    "    temp=sum(sum(psf))\n",
    "    cent[0]=sum(sum(psf)*weights)/temp\n",
    "    cent[1]=sum(sum(psf.T)*weights)/temp\n",
    "    return cent"
   ]
  },
  {
   "cell_type": "code",
   "execution_count": null,
   "metadata": {
    "collapsed": true
   },
   "outputs": [],
   "source": [
    "centlist = []\n",
    "for i, center in enumerate(centers):\n",
    "    image = fits.open(datadir+objname+'_{0:02d}.fits'.format(i+1))[0].data\n",
    "    searchbox = image[center[0]-searchr : center[0]+searchr, center[1]-searchr : center[1]+searchr]\n",
    "    boxlen = len(searchbox)\n",
    "    weights = cent_weight(boxlen)\n",
    "    cen_offset = calc_CoM(searchbox, weights)\n",
    "    centlist.append(center + cen_offset)"
   ]
  },
  {
   "cell_type": "code",
   "execution_count": null,
   "metadata": {},
   "outputs": [],
   "source": [
    "print(centlist[0])"
   ]
  },
  {
   "cell_type": "markdown",
   "metadata": {},
   "source": [
    "## 2. Identifying Stars in the Field"
   ]
  },
  {
   "cell_type": "markdown",
   "metadata": {},
   "source": [
    "### 2.1. Image Maxima"
   ]
  },
  {
   "cell_type": "markdown",
   "metadata": {},
   "source": [
    "## Ex. 1 Locate the Maxima in the image"
   ]
  },
  {
   "cell_type": "markdown",
   "metadata": {},
   "source": [
    "## 3. Converting pixel coordinates to WCS"
   ]
  },
  {
   "cell_type": "code",
   "execution_count": null,
   "metadata": {},
   "outputs": [],
   "source": [
    "def load_wcs_from_file(filename, xx, yy):\n",
    "    # Load the FITS hdulist using astropy.io.fits\n",
    "    hdulist = fits.open(filename)\n",
    "\n",
    "    # Parse the WCS keywords in the primary HDU\n",
    "    w = wcs.WCS(hdulist[0].header)\n",
    "\n",
    "    # Print out the \"name\" of the WCS, as defined in the FITS header\n",
    "    print(w.wcs.name)\n",
    "\n",
    "    # Print out all of the settings that were parsed from the header\n",
    "    w.wcs.print_contents()\n",
    "\n",
    "    # Three pixel coordinates of interest.\n",
    "    # Note we've silently assumed a NAXIS=2 image here\n",
    "    targcrd = np.array([centlist[0]], np.float_)\n",
    "    \n",
    "    starscrd = np.array([xx, yy], np.float_)\n",
    "\n",
    "    # Convert pixel coordinates to world coordinates\n",
    "    # The second argument is \"origin\".\n",
    "    tworld = w.wcs_pix2world(targcrd, 0)\n",
    "    sworld = w.wcs_pix2world(starscrd.T, 0)\n",
    "    print(tworld)\n",
    "    \n",
    "    return w, sworld"
   ]
  },
  {
   "cell_type": "markdown",
   "metadata": {},
   "source": [
    "Find position of Asteroid in WCS"
   ]
  },
  {
   "cell_type": "code",
   "execution_count": null,
   "metadata": {},
   "outputs": [],
   "source": [
    "wparams, scoords = load_wcs_from_file(datadir+objname+'_{0:02d}.fits'.format(1), x2, y2)"
   ]
  },
  {
   "cell_type": "code",
   "execution_count": null,
   "metadata": {},
   "outputs": [],
   "source": [
    "print(scoords)"
   ]
  },
  {
   "cell_type": "markdown",
   "metadata": {},
   "source": [
    "## 3. Matching"
   ]
  },
  {
   "cell_type": "markdown",
   "metadata": {},
   "source": [
    "### 3.1 Get astrometric catalog"
   ]
  },
  {
   "cell_type": "code",
   "execution_count": null,
   "metadata": {},
   "outputs": [],
   "source": [
    "job = Gaia.launch_job_async(\"SELECT * \\\n",
    "FROM gaiadr1.gaia_source \\\n",
    "WHERE CONTAINS(POINT('ICRS',gaiadr1.gaia_source.ra,gaiadr1.gaia_source.dec),CIRCLE('ICRS', 193.34, 33.86, 0.08))=1;\" \\\n",
    ", dump_to_file=True)\n",
    "\n",
    "print (job)"
   ]
  },
  {
   "cell_type": "code",
   "execution_count": null,
   "metadata": {},
   "outputs": [],
   "source": [
    "r = job.get_results()\n",
    "print (r['source_id'], r['ra'], r['dec'])\n",
    "print(type(r['ra']))"
   ]
  },
  {
   "cell_type": "markdown",
   "metadata": {},
   "source": [
    "Convert Gaia WCS coordinates to pixels"
   ]
  },
  {
   "cell_type": "markdown",
   "metadata": {},
   "source": [
    "## 3.2 Perform Match"
   ]
  },
  {
   "cell_type": "code",
   "execution_count": null,
   "metadata": {
    "collapsed": true
   },
   "outputs": [],
   "source": [
    "ra  = np.array(r['ra'])\n",
    "dec = np.array(r['dec'])\n",
    "\n",
    "xpix, ypix = wparams.wcs_world2pix(ra, dec, 0)"
   ]
  },
  {
   "cell_type": "markdown",
   "metadata": {},
   "source": [
    "## Ex. 2 Find a way to match\n",
    "E.g. Convert pixel coordinates to positions on grid and perform a cross-correlation.\n"
   ]
  },
  {
   "cell_type": "code",
   "execution_count": null,
   "metadata": {
    "collapsed": true
   },
   "outputs": [],
   "source": [
    "\n"
   ]
  },
  {
   "cell_type": "markdown",
   "metadata": {},
   "source": [
    "## 3.3 Shift"
   ]
  },
  {
   "cell_type": "markdown",
   "metadata": {
    "collapsed": true
   },
   "source": [
    "## Ex. 3 Perform shift"
   ]
  },
  {
   "cell_type": "markdown",
   "metadata": {
    "collapsed": true
   },
   "source": [
    "Convert shifted coordinate into WCS"
   ]
  },
  {
   "cell_type": "code",
   "execution_count": null,
   "metadata": {
    "collapsed": true
   },
   "outputs": [],
   "source": [
    "wparams, scoords = load_wcs_from_file(datadir+objname+'_{0:02d}.fits'.format(1), targshifted[0], targshifted[1])"
   ]
  }
 ],
 "metadata": {
  "kernelspec": {
   "display_name": "Python 3",
   "language": "python",
   "name": "python3"
  },
  "language_info": {
   "codemirror_mode": {
    "name": "ipython",
    "version": 3
   },
   "file_extension": ".py",
   "mimetype": "text/x-python",
   "name": "python",
   "nbconvert_exporter": "python",
   "pygments_lexer": "ipython3",
   "version": "3.6.2"
  }
 },
 "nbformat": 4,
 "nbformat_minor": 2
}
