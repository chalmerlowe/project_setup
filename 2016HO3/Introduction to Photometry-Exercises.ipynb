{
 "cells": [
  {
   "cell_type": "markdown",
   "metadata": {},
   "source": [
    "# Introduction to Photometry - Exercises"
   ]
  },
  {
   "cell_type": "markdown",
   "metadata": {},
   "source": [
    "### Dora Föhring, University of Hawaii Institute for Astronomy"
   ]
  },
  {
   "cell_type": "markdown",
   "metadata": {
    "collapsed": true
   },
   "source": [
    "Aim: Demonstrate photometry on a series of bias and flat field corrected images of a Near Earth Asteroid."
   ]
  },
  {
   "cell_type": "markdown",
   "metadata": {
    "collapsed": true
   },
   "source": [
    "## 0. Prerequisites"
   ]
  },
  {
   "cell_type": "code",
   "execution_count": null,
   "metadata": {
    "collapsed": true
   },
   "outputs": [],
   "source": [
    "import numpy as np\n",
    "import matplotlib.pyplot as plt\n",
    "import astropy.io.fits as fits\n",
    "## make matplotlib appear in the notebook rather than in a new window\n",
    "%matplotlib inline"
   ]
  },
  {
   "cell_type": "markdown",
   "metadata": {},
   "source": [
    "### 0.1 Directory Set up"
   ]
  },
  {
   "cell_type": "code",
   "execution_count": null,
   "metadata": {
    "collapsed": true
   },
   "outputs": [],
   "source": [
    "datadir = '/Users/dorafohring/Desktop/2016HO3/'\n",
    "objname  = '2016HO3'"
   ]
  },
  {
   "cell_type": "markdown",
   "metadata": {},
   "source": [
    "### 0.2 Display images"
   ]
  },
  {
   "cell_type": "code",
   "execution_count": null,
   "metadata": {
    "collapsed": true
   },
   "outputs": [],
   "source": [
    "def plotfits(imno):\n",
    "    img = fits.open(datadir+objname+'_{0:02d}.fits'.format(numb))[0].data\n",
    "\n",
    "    f = plt.figure(figsize=(10,12))\n",
    "    im = plt.imshow(img, cmap='hot')\n",
    "    #im = plt.imshow(img[480:560, 460:540], cmap='hot')\n",
    "    #plt.clim(1800, 2800)\n",
    "    plt.colorbar(im, fraction=0.046, pad=0.04)\n",
    "    plt.savefig(\"figure{0}.png\".format(imno))\n",
    "    plt.show()"
   ]
  },
  {
   "cell_type": "code",
   "execution_count": null,
   "metadata": {},
   "outputs": [],
   "source": [
    "numb = 1 \n",
    "plotfits(numb)"
   ]
  },
  {
   "cell_type": "code",
   "execution_count": null,
   "metadata": {
    "scrolled": true
   },
   "outputs": [],
   "source": [
    "numb = 2\n",
    "plotfits(numb)"
   ]
  },
  {
   "cell_type": "markdown",
   "metadata": {},
   "source": [
    "## 1. Photometry set up"
   ]
  },
  {
   "cell_type": "code",
   "execution_count": null,
   "metadata": {
    "collapsed": true
   },
   "outputs": [],
   "source": [
    "partimg = fits.open(datadir+objname+'_01.fits'.format(numb))[0].data[480:560, 460:540]"
   ]
  },
  {
   "cell_type": "markdown",
   "metadata": {},
   "source": [
    "Define starting values"
   ]
  },
  {
   "cell_type": "code",
   "execution_count": null,
   "metadata": {
    "collapsed": true
   },
   "outputs": [],
   "source": [
    "targcen = np.array([22,41])  ## target center\n",
    "compcen = np.array([57,14])  ## comparison center\n",
    "\n",
    "searchr = 12  ## search box size\n",
    "ap_r = 2.5      ## aperture radius\n",
    "\n",
    "sky_inner = 3\n",
    "sky_outer = 5"
   ]
  },
  {
   "cell_type": "markdown",
   "metadata": {},
   "source": [
    "### 1.1 Centroiding: Center of Mass"
   ]
  },
  {
   "cell_type": "markdown",
   "metadata": {
    "collapsed": true
   },
   "source": [
    "Calculate Center of Mass (CoM) defined as: $\\bar{x} = \\frac{\\sum A_i x_i}{\\sum A_i}$, $\\bar{y} = \\frac{\\sum A_i y_i}{\\sum A_i}$."
   ]
  },
  {
   "cell_type": "code",
   "execution_count": null,
   "metadata": {
    "collapsed": true
   },
   "outputs": [],
   "source": [
    "def cent_weight(n):\n",
    "    \"\"\"\n",
    "    Assigns centroid weights\n",
    "    \"\"\"\n",
    "    wghts=np.zeros((n),np.float)\n",
    "    for i in range(n):\n",
    "        wghts[i]=float(i-n/2)+0.5\n",
    "    return wghts\n",
    "\n",
    "def calc_CoM(psf, weights):\n",
    "    \"\"\"\n",
    "    Finds Center of Mass of image\n",
    "    \"\"\"\n",
    "    cent=np.zeros((2),np.float)\n",
    "    temp=sum(sum(psf))\n",
    "    cent[0]=sum(sum(psf)*weights)/temp\n",
    "    cent[1]=sum(sum(psf.T)*weights)/temp\n",
    "    return cent"
   ]
  },
  {
   "cell_type": "code",
   "execution_count": null,
   "metadata": {
    "collapsed": true
   },
   "outputs": [],
   "source": [
    " * Gaussian centroiding routine. This measures the position of a peak\n",
    " * by cross-correlation with a gaussian of fixed width. This is fairly\n",
    " * robust in the presence of noise. It first searches for a maximum in the\n",
    " * cross-correlation, then runs a Newton-Raphson-like refinement to tweak the value."
   ]
  },
  {
   "cell_type": "markdown",
   "metadata": {},
   "source": [
    "Use centroiding algorithm to find the actual centers of the targe and comparison."
   ]
  },
  {
   "cell_type": "code",
   "execution_count": null,
   "metadata": {},
   "outputs": [],
   "source": [
    "## Cut a box between search limits, centered around targcen\n",
    "targbox = partimg[targcen[0]-searchr : targcen[0]+searchr, targcen[1]-searchr : targcen[1]+searchr]\n",
    "\n",
    "weights = cent_weight(len(targbox))\n",
    "tcenoffset = calc_com(targbox, weights)\n",
    "print(tcenoffset)\n",
    "tcenter = targcen + tcenoffset"
   ]
  },
  {
   "cell_type": "code",
   "execution_count": null,
   "metadata": {},
   "outputs": [],
   "source": [
    "plt.plot(sum(targbox))\n",
    "plt.show()"
   ]
  },
  {
   "cell_type": "code",
   "execution_count": null,
   "metadata": {
    "collapsed": true
   },
   "outputs": [],
   "source": [
    "compbox = partimg[compcen[0]-searchr : compcen[0]+searchr, compcen[1]-searchr : compcen[1]+searchr]\n",
    "compw = cent_weight(len(compbox))\n",
    "ccenoffset = centroid(compbox,compw)\n",
    "ccenter = compcen + ccenoffset"
   ]
  },
  {
   "cell_type": "code",
   "execution_count": null,
   "metadata": {},
   "outputs": [],
   "source": [
    "print(ccenoffset)"
   ]
  },
  {
   "cell_type": "code",
   "execution_count": null,
   "metadata": {},
   "outputs": [],
   "source": [
    "compw"
   ]
  },
  {
   "cell_type": "markdown",
   "metadata": {},
   "source": [
    "Define new regions where the target and comparison are centered."
   ]
  },
  {
   "cell_type": "code",
   "execution_count": null,
   "metadata": {
    "collapsed": true
   },
   "outputs": [],
   "source": [
    "newtarg = partimg[int(round(tcenter[0]))-searchr : int(round(tcenter[0]))+searchr, int(round(tcenter[1]))-searchr : int(round(tcenter[1]))+searchr]\n",
    "newcomp = partimg[int(round(ccenter[0]))-searchr : int(round(ccenter[0]))+searchr, int(round(tcenter[1]))-searchr : int(round(tcenter[1]))+searchr]"
   ]
  },
  {
   "cell_type": "markdown",
   "metadata": {},
   "source": [
    "### 1.2 Aperture Photometry"
   ]
  },
  {
   "cell_type": "markdown",
   "metadata": {},
   "source": [
    "#### Science Aperture"
   ]
  },
  {
   "cell_type": "code",
   "execution_count": null,
   "metadata": {
    "collapsed": true
   },
   "outputs": [],
   "source": [
    "def circle(npix, r1):\n",
    "    \"\"\"\n",
    "    Builds a circle\n",
    "    \"\"\"\n",
    "    pup=np.zeros((npix,npix),np.int)\n",
    "    for i in range(npix):\n",
    "        for j in range(npix):\n",
    "            r=np.sqrt((float(i-npix/2)+0.5)**2+(float(j-npix/2)+0.5)**2)\n",
    "            if r<=r1:\n",
    "                pup[i,j]=1\n",
    "    return pup"
   ]
  },
  {
   "cell_type": "markdown",
   "metadata": {},
   "source": [
    "#### Sky annulus"
   ]
  },
  {
   "cell_type": "markdown",
   "metadata": {
    "collapsed": true
   },
   "source": [
    "### Ex. 1. Duplicate the science aperture code to produce an Annulus"
   ]
  },
  {
   "cell_type": "markdown",
   "metadata": {
    "collapsed": true
   },
   "source": [
    "#### Extract values from regions"
   ]
  },
  {
   "cell_type": "markdown",
   "metadata": {},
   "source": [
    "Place mask on aperture slice."
   ]
  },
  {
   "cell_type": "code",
   "execution_count": null,
   "metadata": {
    "collapsed": true
   },
   "outputs": [],
   "source": [
    "targaper = circle(searchr*2, ap_r)*newtarg\n",
    "compaper = circle(searchr*2, ap_r)*newcomp"
   ]
  },
  {
   "cell_type": "markdown",
   "metadata": {},
   "source": [
    "Place mask on sky annulus slice. "
   ]
  },
  {
   "cell_type": "code",
   "execution_count": null,
   "metadata": {
    "collapsed": true
   },
   "outputs": [],
   "source": [
    "targanncut = partimg[int(tcenter[0])-sky_outer*2: int(tcenter[0])+sky_outer*2, int(tcenter[1])-sky_outer*2 : int(tcenter[1])+sky_outer*2]\n",
    "companncut = partimg[int(tcenter[0])-sky_outer*2: int(tcenter[0])+sky_outer*2, int(tcenter[1])-sky_outer*2 : int(tcenter[1])+sky_outer*2]                                                                                                                \n",
    "targann = annulus(sky_outer*4, sky_inner, sky_outer)*targanncut\n",
    "compann = annulus(sky_outer*4, sky_inner, sky_outer)*companncut"
   ]
  },
  {
   "cell_type": "markdown",
   "metadata": {},
   "source": [
    "### 1.3 Tests"
   ]
  },
  {
   "cell_type": "markdown",
   "metadata": {},
   "source": [
    "a. Display image with target and comparison centers before and after centroiding"
   ]
  },
  {
   "cell_type": "code",
   "execution_count": null,
   "metadata": {},
   "outputs": [],
   "source": [
    "im = plt.imshow(partimg, cmap='hot')\n",
    "#plt.clim(1800, 2800)\n",
    "plt.scatter(targcen[1], targcen[0], c='w', marker='x')\n",
    "plt.scatter(compcen[1], compcen[0], c='g', marker='x')\n",
    "plt.scatter(tcenter[1], tcenter[0], c='k', marker='x')\n",
    "plt.scatter(ccenter[1], ccenter[0], c='b', marker='x')\n",
    "plt.show()"
   ]
  },
  {
   "cell_type": "markdown",
   "metadata": {
    "collapsed": true
   },
   "source": [
    "b. Disply image with aperture mask and sky annulus"
   ]
  },
  {
   "cell_type": "code",
   "execution_count": null,
   "metadata": {},
   "outputs": [],
   "source": [
    "im = plt.imshow(targaper, cmap='hot')\n",
    "plt.clim(1800, 2800)\n",
    "plt.show()"
   ]
  },
  {
   "cell_type": "code",
   "execution_count": null,
   "metadata": {},
   "outputs": [],
   "source": [
    "im = plt.imshow(targann, cmap='hot')\n",
    "plt.clim(1800, 2800)\n",
    "plt.show()"
   ]
  },
  {
   "cell_type": "markdown",
   "metadata": {},
   "source": [
    "## 2. Photometry"
   ]
  },
  {
   "cell_type": "markdown",
   "metadata": {
    "collapsed": true
   },
   "source": [
    "### 2.1 Calculate SNR"
   ]
  },
  {
   "cell_type": "markdown",
   "metadata": {},
   "source": [
    "Calculate Signal-to-Noise Ratio. CCD noise = sqrt(signal + background + dark current + read noise) "
   ]
  },
  {
   "cell_type": "code",
   "execution_count": null,
   "metadata": {
    "collapsed": true
   },
   "outputs": [],
   "source": [
    "def calcsnr(target, bg):\n",
    "    signal = target - bg\n",
    "    noise = np.sqrt(signal + bg)\n",
    "    snr = signal / noise\n",
    "    return snr, noise   "
   ]
  },
  {
   "cell_type": "code",
   "execution_count": null,
   "metadata": {
    "collapsed": true
   },
   "outputs": [],
   "source": [
    "sumtargc = np.sum(circle(searchr*2, ap_r))\n",
    "sumtarga = np.sum(annulus(searchr*2, sky_inner, sky_outer))\n",
    "sumcompc = np.sum(circle(searchr*2, ap_r))\n",
    "sumcompa = np.sum(annulus(searchr*2, sky_inner, sky_outer))\n",
    "\n",
    "targc = np.sum(targaper) / sumtargc\n",
    "targbg= np.sum(targann) / sumtarga\n",
    "compc = np.sum(compaper) / sumcompc\n",
    "compbg= np.sum(compcen) / sumcompa"
   ]
  },
  {
   "cell_type": "code",
   "execution_count": null,
   "metadata": {},
   "outputs": [],
   "source": [
    "snr, noise = calcsnr(targc, targbg)\n",
    "print (snr)"
   ]
  },
  {
   "cell_type": "markdown",
   "metadata": {
    "collapsed": true
   },
   "source": [
    "### 2.2 Optimize photometry aperture"
   ]
  },
  {
   "cell_type": "markdown",
   "metadata": {
    "collapsed": true
   },
   "source": [
    "## Ex. 2. Find the optimum photometry aperture"
   ]
  },
  {
   "cell_type": "markdown",
   "metadata": {
    "collapsed": true
   },
   "source": [
    "### 2.3 Calculate target's magnitude\n"
   ]
  },
  {
   "cell_type": "code",
   "execution_count": null,
   "metadata": {},
   "outputs": [],
   "source": [
    "targc = circle(searchr*2, ap_r)*newtarg\n",
    "targskyc = annulus(searchr*2, sky_inner, sky_outer)*newtarg\n",
    "compc = circle(searchr*2, ap_r)*newcomp\n",
    "compskyc = annulus(searchr*2, sky_inner, sky_outer)*newcomp\n",
    "\n",
    "ratio = np.sum(compc)/np.sum(targc)\n",
    "sigmaratio = ratio*np.sqrt((np.sum(targc)/np.sum(targskyc))**2 + (np.sum(compc)/np.sum(compc))**2)\n",
    "\n",
    "deltamag = -2.5*np.log10(ratio)\n",
    "sigmamag = 2.5*sigmaratio/(ratio*np.log(10))\n",
    "\n",
    "refmag = 20.4\n",
    "mag = refmag - deltamag\n",
    "print(\"Measured Magnitude = {:0.3f} ± {:0.3f}\".format(mag, sigmamag))"
   ]
  },
  {
   "cell_type": "markdown",
   "metadata": {},
   "source": [
    "## Ex. 3. Measure the Magnitudes for all 10 images and plot them"
   ]
  },
  {
   "cell_type": "code",
   "execution_count": null,
   "metadata": {
    "collapsed": true
   },
   "outputs": [],
   "source": []
  }
 ],
 "metadata": {
  "kernelspec": {
   "display_name": "Python 3",
   "language": "python",
   "name": "python3"
  },
  "language_info": {
   "codemirror_mode": {
    "name": "ipython",
    "version": 3
   },
   "file_extension": ".py",
   "mimetype": "text/x-python",
   "name": "python",
   "nbconvert_exporter": "python",
   "pygments_lexer": "ipython3",
   "version": "3.6.2"
  }
 },
 "nbformat": 4,
 "nbformat_minor": 2
}
