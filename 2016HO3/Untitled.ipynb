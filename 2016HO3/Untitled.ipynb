{
 "cells": [
  {
   "cell_type": "code",
   "execution_count": null,
   "metadata": {
    "collapsed": true
   },
   "outputs": [],
   "source": [
    "1.3 2D Gaussian PSF Fitting"
   ]
  },
  {
   "cell_type": "code",
   "execution_count": null,
   "metadata": {
    "collapsed": true
   },
   "outputs": [],
   "source": [
    "import numpy\n",
    "regions = numpy.loadtxt(\"ds9.reg\")\n",
    "xc,yc = regions[:,0],regions[:,1]\n",
    "Let us illustrate the PSF fitting process using just one of the centers, say, the first one in the list. We \n",
    "will be fitting a Gaussian to only a line plot, also just for illustrative purposes. With your data you \n",
    "perhaps would want to fit more than one star, and in two dimensions, and maybe not even a \n",
    "Gaussian! But this is the gist of it:\n",
    "import scipy.optimize\n",
    "y = vimg[xc[0],yc[0]-10:yc[0]+10] # take star values in a 1 by 20 pixel strip\n",
    "x = linspace(0,len(y)-1,len(y)) # make an array of x values, same length as y\n",
    "Now define an \"anonymous function\" in python (called a lambda form, or lambda), which will take in \n",
    "a set of parameters and output the function operated upon those parameters. Here we define a \n",
    "Gaussian as our fitting function. We also define a lambda that is the fitted function minus the data; \n",
    "this function is what we will be minimizing using scipy.\n",
    "fitfunc = lambda p, x: p[0]*scipy.exp(-(x-p[1])**2/(2.0*p[2]**2))\n",
    "errfunc = lambda p, x, y: fitfunc(p,x)-y\n",
    "parameters,foo = scipy.optimize.leastsq(errfunc,(2000,10,3),args=(x,y)) \n",
    "# foo is a throwaway variable\n",
    "The last line is the fitting part, it is minimizing our\n",
    "error function using least squares by taking in three\n",
    "arguments: 1) the function to be minimized, 2) our\n",
    "initial guess for the parameters (amplitude, mean,\n",
    "and std dev), and 3) the x and y values of our data.\n",
    "The plot of our fit and the data (with error bars) is\n",
    "included here, and the plotting code is below:\n",
    "\n",
    "\n",
    "clf()\n",
    "xlabel('X')\n",
    "ylabel('Pixel value above background')\n",
    "plot(x,fitfunc(parameters,x))\n",
    "errorbar(x,y,yerr=sqrt(y),fmt='ro')import numpy\n",
    "regions = numpy.loadtxt(\"ds9.reg\")\n",
    "xc,yc = regions[:,0],regions[:,1]\n",
    "Let us illustrate the PSF fitting process using just one of the centers, say, the first one in the list. We \n",
    "will be fitting a Gaussian to only a line plot, also just for illustrative purposes. With your data you \n",
    "perhaps would want to fit more than one star, and in two dimensions, and maybe not even a \n",
    "Gaussian! But this is the gist of it:\n",
    "import scipy.optimize\n",
    "y = vimg[xc[0],yc[0]-10:yc[0]+10] # take star values in a 1 by 20 pixel strip\n",
    "x = linspace(0,len(y)-1,len(y)) # make an array of x values, same length as y\n",
    "Now define an \"anonymous function\" in python (called a lambda form, or lambda), which will take in \n",
    "a set of parameters and output the function operated upon those parameters. Here we define a \n",
    "Gaussian as our fitting function. We also define a lambda that is the fitted function minus the data; \n",
    "this function is what we will be minimizing using scipy.\n",
    "fitfunc = lambda p, x: p[0]*scipy.exp(-(x-p[1])**2/(2.0*p[2]**2))\n",
    "errfunc = lambda p, x, y: fitfunc(p,x)-y\n",
    "parameters,foo = scipy.optimize.leastsq(errfunc,(2000,10,3),args=(x,y)) \n",
    "# foo is a throwaway variable\n",
    "The last line is the fitting part, it is minimizing our\n",
    "error function using least squares by taking in three\n",
    "arguments: 1) the function to be minimized, 2) our\n",
    "initial guess for the parameters (amplitude, mean,\n",
    "and std dev), and 3) the x and y values of our data.\n",
    "The plot of our fit and the data (with error bars) is\n",
    "included here, and the plotting code is below:\n",
    "\n",
    "\n",
    "clf()\n",
    "xlabel('X')\n",
    "ylabel('Pixel value above background')\n",
    "plot(x,fitfunc(parameters,x))\n",
    "errorbar(x,y,yerr=sqrt(y),fmt='ro'), s=80, facecolors='none', edgecolors='r'"
   ]
  },
  {
   "cell_type": "code",
   "execution_count": null,
   "metadata": {
    "collapsed": true
   },
   "outputs": [],
   "source": [
    "Cross-correlate with Gaussian of fixed width."
   ]
  },
  {
   "cell_type": "code",
   "execution_count": null,
   "metadata": {
    "collapsed": true
   },
   "outputs": [],
   "source": [
    "from astropy.coordinates import SkyCoord\n",
    "from astropy import units as u\n",
    "\n",
    "## Get star coordinates into skycoord format\n",
    "c = SkyCoord(ra=scoords[:,0]*u.degree, dec=scoords[:,1]*u.degree)  \n",
    "\n",
    "## Get the sky catalog into skycoord format\n",
    "catalog = SkyCoord(ra=ra*u.degree, dec=dec*u.degree)  "
   ]
  },
  {
   "cell_type": "code",
   "execution_count": null,
   "metadata": {
    "collapsed": true
   },
   "outputs": [],
   "source": [
    "matches = catalog[idx] \n",
    "print(matches)\n",
    "f = plt.figure(figsize=(10,12))\n",
    "plt.imshow(opt_img, cmap='hot')\n",
    "plt.colorbar(fraction=0.046, pad=0.04)\n",
    "plt.scatter(x2, y2, s=80, facecolors='none', edgecolors='r')\n",
    "plt.scatter(xpix, ypix, s=80, facecolors='none', edgecolors='g')\n",
    "plt.show()"
   ]
  },
  {
   "cell_type": "code",
   "execution_count": null,
   "metadata": {
    "collapsed": true
   },
   "outputs": [],
   "source": [
    "4. Uncertainties"
   ]
  }
 ],
 "metadata": {
  "kernelspec": {
   "display_name": "Python 3",
   "language": "python",
   "name": "python3"
  },
  "language_info": {
   "codemirror_mode": {
    "name": "ipython",
    "version": 3
   },
   "file_extension": ".py",
   "mimetype": "text/x-python",
   "name": "python",
   "nbconvert_exporter": "python",
   "pygments_lexer": "ipython3",
   "version": "3.6.2"
  }
 },
 "nbformat": 4,
 "nbformat_minor": 2
}
